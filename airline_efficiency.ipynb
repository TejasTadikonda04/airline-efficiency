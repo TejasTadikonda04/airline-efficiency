{
 "cells": [
  {
   "cell_type": "code",
   "execution_count": 17,
   "metadata": {},
   "outputs": [],
   "source": [
    "from pyspark.sql import SparkSession\n",
    "\n",
    "# Initialize SparkSession\n",
    "spark = SparkSession.builder \\\n",
    "    .appName(\"Flight Data Analysis\") \\\n",
    "    .getOrCreate()"
   ]
  },
  {
   "cell_type": "code",
   "execution_count": 18,
   "metadata": {},
   "outputs": [],
   "source": [
    "# Load the dataset into a DataFrame\n",
    "flight_data = spark.read.csv(\"On_Time_Reporting_Carrier_On_Time_Performance_(1987_present)_2022_1.csv\", header=True, inferSchema=True)"
   ]
  },
  {
   "cell_type": "code",
   "execution_count": 19,
   "metadata": {},
   "outputs": [
    {
     "name": "stdout",
     "output_type": "stream",
     "text": [
      "Number of rows:  537902\n",
      "Number of columns:  110\n",
      "root\n",
      " |-- Year: integer (nullable = true)\n",
      " |-- Quarter: integer (nullable = true)\n",
      " |-- Month: integer (nullable = true)\n",
      " |-- DayofMonth: integer (nullable = true)\n",
      " |-- DayOfWeek: integer (nullable = true)\n",
      " |-- FlightDate: date (nullable = true)\n",
      " |-- Reporting_Airline: string (nullable = true)\n",
      " |-- DOT_ID_Reporting_Airline: integer (nullable = true)\n",
      " |-- IATA_CODE_Reporting_Airline: string (nullable = true)\n",
      " |-- Tail_Number: string (nullable = true)\n",
      " |-- Flight_Number_Reporting_Airline: integer (nullable = true)\n",
      " |-- OriginAirportID: integer (nullable = true)\n",
      " |-- OriginAirportSeqID: integer (nullable = true)\n",
      " |-- OriginCityMarketID: integer (nullable = true)\n",
      " |-- Origin: string (nullable = true)\n",
      " |-- OriginCityName: string (nullable = true)\n",
      " |-- OriginState: string (nullable = true)\n",
      " |-- OriginStateFips: integer (nullable = true)\n",
      " |-- OriginStateName: string (nullable = true)\n",
      " |-- OriginWac: integer (nullable = true)\n",
      " |-- DestAirportID: integer (nullable = true)\n",
      " |-- DestAirportSeqID: integer (nullable = true)\n",
      " |-- DestCityMarketID: integer (nullable = true)\n",
      " |-- Dest: string (nullable = true)\n",
      " |-- DestCityName: string (nullable = true)\n",
      " |-- DestState: string (nullable = true)\n",
      " |-- DestStateFips: integer (nullable = true)\n",
      " |-- DestStateName: string (nullable = true)\n",
      " |-- DestWac: integer (nullable = true)\n",
      " |-- CRSDepTime: integer (nullable = true)\n",
      " |-- DepTime: integer (nullable = true)\n",
      " |-- DepDelay: double (nullable = true)\n",
      " |-- DepDelayMinutes: double (nullable = true)\n",
      " |-- DepDel15: double (nullable = true)\n",
      " |-- DepartureDelayGroups: integer (nullable = true)\n",
      " |-- DepTimeBlk: string (nullable = true)\n",
      " |-- TaxiOut: double (nullable = true)\n",
      " |-- WheelsOff: integer (nullable = true)\n",
      " |-- WheelsOn: integer (nullable = true)\n",
      " |-- TaxiIn: double (nullable = true)\n",
      " |-- CRSArrTime: integer (nullable = true)\n",
      " |-- ArrTime: integer (nullable = true)\n",
      " |-- ArrDelay: double (nullable = true)\n",
      " |-- ArrDelayMinutes: double (nullable = true)\n",
      " |-- ArrDel15: double (nullable = true)\n",
      " |-- ArrivalDelayGroups: integer (nullable = true)\n",
      " |-- ArrTimeBlk: string (nullable = true)\n",
      " |-- Cancelled: double (nullable = true)\n",
      " |-- CancellationCode: string (nullable = true)\n",
      " |-- Diverted: double (nullable = true)\n",
      " |-- CRSElapsedTime: double (nullable = true)\n",
      " |-- ActualElapsedTime: double (nullable = true)\n",
      " |-- AirTime: double (nullable = true)\n",
      " |-- Flights: double (nullable = true)\n",
      " |-- Distance: double (nullable = true)\n",
      " |-- DistanceGroup: integer (nullable = true)\n",
      " |-- CarrierDelay: double (nullable = true)\n",
      " |-- WeatherDelay: double (nullable = true)\n",
      " |-- NASDelay: double (nullable = true)\n",
      " |-- SecurityDelay: double (nullable = true)\n",
      " |-- LateAircraftDelay: double (nullable = true)\n",
      " |-- FirstDepTime: integer (nullable = true)\n",
      " |-- TotalAddGTime: double (nullable = true)\n",
      " |-- LongestAddGTime: double (nullable = true)\n",
      " |-- DivAirportLandings: integer (nullable = true)\n",
      " |-- DivReachedDest: double (nullable = true)\n",
      " |-- DivActualElapsedTime: double (nullable = true)\n",
      " |-- DivArrDelay: double (nullable = true)\n",
      " |-- DivDistance: double (nullable = true)\n",
      " |-- Div1Airport: string (nullable = true)\n",
      " |-- Div1AirportID: integer (nullable = true)\n",
      " |-- Div1AirportSeqID: integer (nullable = true)\n",
      " |-- Div1WheelsOn: integer (nullable = true)\n",
      " |-- Div1TotalGTime: double (nullable = true)\n",
      " |-- Div1LongestGTime: double (nullable = true)\n",
      " |-- Div1WheelsOff: integer (nullable = true)\n",
      " |-- Div1TailNum: string (nullable = true)\n",
      " |-- Div2Airport: string (nullable = true)\n",
      " |-- Div2AirportID: integer (nullable = true)\n",
      " |-- Div2AirportSeqID: integer (nullable = true)\n",
      " |-- Div2WheelsOn: integer (nullable = true)\n",
      " |-- Div2TotalGTime: double (nullable = true)\n",
      " |-- Div2LongestGTime: double (nullable = true)\n",
      " |-- Div2WheelsOff: integer (nullable = true)\n",
      " |-- Div2TailNum: string (nullable = true)\n",
      " |-- Div3Airport: string (nullable = true)\n",
      " |-- Div3AirportID: string (nullable = true)\n",
      " |-- Div3AirportSeqID: string (nullable = true)\n",
      " |-- Div3WheelsOn: string (nullable = true)\n",
      " |-- Div3TotalGTime: string (nullable = true)\n",
      " |-- Div3LongestGTime: string (nullable = true)\n",
      " |-- Div3WheelsOff: string (nullable = true)\n",
      " |-- Div3TailNum: string (nullable = true)\n",
      " |-- Div4Airport: string (nullable = true)\n",
      " |-- Div4AirportID: string (nullable = true)\n",
      " |-- Div4AirportSeqID: string (nullable = true)\n",
      " |-- Div4WheelsOn: string (nullable = true)\n",
      " |-- Div4TotalGTime: string (nullable = true)\n",
      " |-- Div4LongestGTime: string (nullable = true)\n",
      " |-- Div4WheelsOff: string (nullable = true)\n",
      " |-- Div4TailNum: string (nullable = true)\n",
      " |-- Div5Airport: string (nullable = true)\n",
      " |-- Div5AirportID: string (nullable = true)\n",
      " |-- Div5AirportSeqID: string (nullable = true)\n",
      " |-- Div5WheelsOn: string (nullable = true)\n",
      " |-- Div5TotalGTime: string (nullable = true)\n",
      " |-- Div5LongestGTime: string (nullable = true)\n",
      " |-- Div5WheelsOff: string (nullable = true)\n",
      " |-- Div5TailNum: string (nullable = true)\n",
      " |-- _c109: string (nullable = true)\n",
      "\n"
     ]
    }
   ],
   "source": [
    "# Print the number of rows and columns\n",
    "print(\"Number of rows: \", flight_data.count())\n",
    "print(\"Number of columns: \", len(flight_data.columns))\n",
    "\n",
    "# Print the schema of the DataFrame\n",
    "flight_data.printSchema()"
   ]
  },
  {
   "cell_type": "code",
   "execution_count": 31,
   "metadata": {},
   "outputs": [
    {
     "name": "stdout",
     "output_type": "stream",
     "text": [
      "Number of rows before cleaning: 537902\n",
      "Number of columns before cleaning: 110\n",
      "Number of rows after cleaning: 503529\n",
      "Number of columns after cleaning: 41\n"
     ]
    }
   ],
   "source": [
    "# Columns of interest for cleaning\n",
    "columns_of_interest = [\n",
    "    \"Year\", \"Quarter\", \"Month\", \"DayofMonth\", \"DayOfWeek\", \"FlightDate\",\n",
    "    \"Reporting_Airline\", \"DOT_ID_Reporting_Airline\", \"IATA_CODE_Reporting_Airline\",\n",
    "    \"Tail_Number\", \"Flight_Number_Reporting_Airline\", \"OriginAirportID\",\n",
    "    \"Origin\", \"OriginCityName\", \"OriginState\", \"DestAirportID\",\n",
    "    \"Dest\", \"DestCityName\", \"DestState\", \"CRSDepTime\", \"DepTime\", \"DepDelay\",\n",
    "    \"DepDelayMinutes\", \"DepDel15\", \"DepTimeBlk\", \"TaxiOut\", \"WheelsOff\",\n",
    "    \"WheelsOn\", \"TaxiIn\", \"CRSArrTime\", \"ArrTime\", \"ArrDelay\", \"ArrDelayMinutes\",\n",
    "    \"ArrDel15\", \"ArrTimeBlk\", \"CRSElapsedTime\", \"ActualElapsedTime\",\n",
    "    \"AirTime\", \"Flights\", \"Distance\", \"DistanceGroup\"\n",
    "]\n",
    "\n",
    "# Select relevant columns and drop rows with any missing values\n",
    "cleaned_data = flight_data.select(columns_of_interest).dropna()\n",
    "\n",
    "# Remove duplicate rows\n",
    "cleaned_data = cleaned_data.dropDuplicates()\n",
    "\n",
    "# Print the number of rows and columns before cleaning\n",
    "print(\"Number of rows before cleaning:\", flight_data.count())\n",
    "print(\"Number of columns before cleaning:\", len(flight_data.columns))\n",
    "\n",
    "# Print the number of rows and columns after cleaning\n",
    "print(\"Number of rows after cleaning:\", cleaned_data.count())\n",
    "print(\"Number of columns after cleaning:\", len(cleaned_data.columns))"
   ]
  },
  {
   "cell_type": "code",
   "execution_count": 32,
   "metadata": {},
   "outputs": [],
   "source": [
    "# Register the DataFrame as a temporary SQL table\n",
    "cleaned_data.createOrReplaceTempView(\"flight_data_temp\")"
   ]
  },
  {
   "cell_type": "code",
   "execution_count": 33,
   "metadata": {},
   "outputs": [
    {
     "name": "stdout",
     "output_type": "stream",
     "text": [
      "+-------+----------+\n",
      "|Airline|NumFlights|\n",
      "+-------+----------+\n",
      "|     WN|     90859|\n",
      "|     DL|     66573|\n",
      "|     AA|     66370|\n",
      "|     OO|     58651|\n",
      "|     UA|     42744|\n",
      "+-------+----------+\n",
      "\n"
     ]
    }
   ],
   "source": [
    "# Query to find the top 5 airlines with the most flights\n",
    "query = \"\"\"\n",
    "    SELECT Reporting_Airline AS Airline, COUNT(*) AS NumFlights\n",
    "    FROM flight_data_temp\n",
    "    GROUP BY Reporting_Airline\n",
    "    ORDER BY NumFlights DESC\n",
    "    LIMIT 5\n",
    "\"\"\"\n",
    "\n",
    "# Execute the SQL query\n",
    "top_airlines = spark.sql(query)\n",
    "\n",
    "# Show the result\n",
    "top_airlines.show()"
   ]
  },
  {
   "cell_type": "code",
   "execution_count": 34,
   "metadata": {},
   "outputs": [
    {
     "name": "stdout",
     "output_type": "stream",
     "text": [
      "+-------+--------------------+\n",
      "|Airline|            AvgDelay|\n",
      "+-------+--------------------+\n",
      "|     B6|  18.721081700708627|\n",
      "|     G4|  12.243134796238245|\n",
      "|     YV|  11.159475806451614|\n",
      "|     QX|    10.9645705320957|\n",
      "|     F9|   10.95516280689535|\n",
      "|     OH|   10.69882816778009|\n",
      "|     NK|   8.520167719837005|\n",
      "|     OO|  7.9284752178138485|\n",
      "|     HA|   6.884219858156029|\n",
      "|     AS|   5.233293870034202|\n",
      "|     UA|   4.756269885831929|\n",
      "|     YX|  3.3062718486530946|\n",
      "|     9E|  1.9842539118416507|\n",
      "|     WN|  1.0503307322334607|\n",
      "|     DL|-0.22848602286212127|\n",
      "|     AA| -1.0758324544221787|\n",
      "|     MQ|  -1.326464157789459|\n",
      "+-------+--------------------+\n",
      "\n"
     ]
    }
   ],
   "source": [
    "# Query to determine the average flight delay by airline\n",
    "query = \"\"\"\n",
    "    SELECT Reporting_Airline AS Airline,\n",
    "           AVG(ArrDelay) AS AvgDelay\n",
    "    FROM flight_data_temp\n",
    "    WHERE ArrDelay IS NOT NULL\n",
    "    GROUP BY Reporting_Airline\n",
    "    ORDER BY AvgDelay DESC\n",
    "\"\"\"\n",
    "\n",
    "# Execute the SQL query\n",
    "avg_delay_by_airline = spark.sql(query)\n",
    "\n",
    "# Show the result\n",
    "avg_delay_by_airline.show()"
   ]
  },
  {
   "cell_type": "code",
   "execution_count": 36,
   "metadata": {},
   "outputs": [
    {
     "name": "stdout",
     "output_type": "stream",
     "text": [
      "+-------+------------+\n",
      "|Airport|TotalFlights|\n",
      "+-------+------------+\n",
      "|    ATL|       48863|\n",
      "|    DFW|       44056|\n",
      "|    DEN|       38708|\n",
      "+-------+------------+\n",
      "\n"
     ]
    }
   ],
   "source": [
    "# Query to identify the top 3 busiest airports\n",
    "query = \"\"\"\n",
    "    SELECT Airport AS Airport,\n",
    "           SUM(NumFlights) AS TotalFlights\n",
    "    FROM (\n",
    "        SELECT Origin AS Airport, COUNT(*) AS NumFlights\n",
    "        FROM flight_data_temp\n",
    "        GROUP BY Origin\n",
    "        UNION ALL\n",
    "        SELECT Dest AS Airport, COUNT(*) AS NumFlights\n",
    "        FROM flight_data_temp\n",
    "        GROUP BY Dest\n",
    "    ) AS combined_flights\n",
    "    GROUP BY Airport\n",
    "    ORDER BY TotalFlights DESC\n",
    "    LIMIT 3\n",
    "\"\"\"\n",
    "\n",
    "# Execute the SQL query\n",
    "top_3_busiest_airports = spark.sql(query)\n",
    "\n",
    "# Show the result\n",
    "top_3_busiest_airports.show()"
   ]
  }
 ],
 "metadata": {
  "kernelspec": {
   "display_name": "Python 3",
   "language": "python",
   "name": "python3"
  },
  "language_info": {
   "codemirror_mode": {
    "name": "ipython",
    "version": 3
   },
   "file_extension": ".py",
   "mimetype": "text/x-python",
   "name": "python",
   "nbconvert_exporter": "python",
   "pygments_lexer": "ipython3",
   "version": "3.11.4"
  }
 },
 "nbformat": 4,
 "nbformat_minor": 2
}

{
 "cells": [
  {
   "cell_type": "code",
   "execution_count": 1,
   "metadata": {},
   "outputs": [],
   "source": [
    "from pyspark.sql import SparkSession\n",
    "\n",
    "# Initialize SparkSession\n",
    "spark = SparkSession.builder \\\n",
    "    .appName(\"Flight Data Analysis\") \\\n",
    "    .getOrCreate()"
   ]
  },
  {
   "cell_type": "code",
   "execution_count": 2,
   "metadata": {},
   "outputs": [],
   "source": [
    "# Load the dataset into a DataFrame\n",
    "flight_data = spark.read.csv(\"T_ONTIME_REPORTING.csv\", header=True, inferSchema=True)"
   ]
  },
  {
   "cell_type": "code",
   "execution_count": 4,
   "metadata": {},
   "outputs": [
    {
     "name": "stdout",
     "output_type": "stream",
     "text": [
      "Number of rows:  538837\n",
      "Number of columns:  6\n",
      "root\n",
      " |-- ORIGIN_AIRPORT_ID: integer (nullable = true)\n",
      " |-- ORIGIN_AIRPORT_SEQ_ID: integer (nullable = true)\n",
      " |-- ORIGIN_CITY_MARKET_ID: integer (nullable = true)\n",
      " |-- DEST_AIRPORT_ID: integer (nullable = true)\n",
      " |-- DEST_AIRPORT_SEQ_ID: integer (nullable = true)\n",
      " |-- DEST_CITY_MARKET_ID: integer (nullable = true)\n",
      "\n"
     ]
    }
   ],
   "source": [
    "# Print the number of rows and columns\n",
    "print(\"Number of rows: \", flight_data.count())\n",
    "print(\"Number of columns: \", len(flight_data.columns))\n",
    "\n",
    "# Print the schema of the DataFrame\n",
    "flight_data.printSchema()"
   ]
  },
  {
   "cell_type": "code",
   "execution_count": 6,
   "metadata": {},
   "outputs": [],
   "source": [
    "# Handle missing values by dropping rows with any missing values\n",
    "cleaned_data = flight_data.dropna()\n",
    "\n",
    "# Remove duplicate rows\n",
    "cleaned_data = cleaned_data.dropDuplicates()"
   ]
  }
 ],
 "metadata": {
  "kernelspec": {
   "display_name": "Python 3",
   "language": "python",
   "name": "python3"
  },
  "language_info": {
   "codemirror_mode": {
    "name": "ipython",
    "version": 3
   },
   "file_extension": ".py",
   "mimetype": "text/x-python",
   "name": "python",
   "nbconvert_exporter": "python",
   "pygments_lexer": "ipython3",
   "version": "3.11.4"
  }
 },
 "nbformat": 4,
 "nbformat_minor": 2
}
